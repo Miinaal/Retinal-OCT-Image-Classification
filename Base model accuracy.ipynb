{
 "cells": [
  {
   "cell_type": "code",
   "execution_count": null,
   "metadata": {},
   "outputs": [],
   "source": [
    "import tensorflow as tf\n",
    "import keras\n",
    "import argparse\n",
    "import keras.backend as K\n",
    "from keras.models import load_model\n",
    "import cv2\n",
    "import numpy as np\n",
    "from tensorflow.keras.layers import experimental\n",
    "\n",
    "\n",
    "def print_pred(preds,classes):\n",
    "\n",
    "    preds = preds.ravel()\n",
    "    y = len(classes)\n",
    "    x=\"\"\n",
    "    for i in range(y):\n",
    "        preds_rounded = np.around(preds,decimals=4)\n",
    "        x = x+classes[i]+\": \"+str(preds_rounded[i])+\"%\"\n",
    "        if i!=(y-1):\n",
    "            x = x+\", \"\n",
    "        \n",
    "        else:\n",
    "            None\n",
    "    print(x)\n",
    "\n",
    "def image_preprocessing(img):\n",
    "    img = cv2.imread(img)\n",
    "    print(img)\n",
    "    try:\n",
    "        img = cv2.resize(img, (224,224))\n",
    "        print(img.shape)\n",
    "    except:\n",
    "    \n",
    "        # img = cv2.resize(img,(224,224))\n",
    "        img = np.reshape(img,[1,224,224,3])\n",
    "        img = 1.0*img/255\n",
    "\n",
    "    return img\n",
    "\n",
    "def inference(img,weights):\n",
    "\n",
    "    classes = ['CNV', 'DME','DRUSEN','NORMAL']\n",
    "\n",
    "    processsed_img = image_preprocessing(img)\n",
    "    K.clear_session()\n",
    "    model = load_model(weights, custom_objects={'BatchNormalization': experimental.SyncBatchNormalization})\n",
    "    \n",
    "    preds = model.predict(processsed_img,batch_size=None,steps=1)\n",
    "  \n",
    "   \n",
    "    print_pred(preds,classes)\n",
    "    "
   ]
  },
  {
   "cell_type": "code",
   "execution_count": null,
   "metadata": {},
   "outputs": [],
   "source": [
    "import os\n",
    "test =  \"E:/OCT2017/test/\"\n",
    "\n",
    "for class_name in [\"NORMAL\", \"CNV\", \"DRUSEN\", \"DME\"]:\n",
    "    input_path = os.path.join(test, class_name)\n",
    "\n",
    "    for filename in os.listdir(input_path):\n",
    "        image_path = os.path.join(input_path, filename)\n",
    "        inference(image_path ,'Optic_net-4_classes-Kermany2018.hdf5')\n"
   ]
  }
 ],
 "metadata": {
  "kernelspec": {
   "display_name": "Python 3",
   "language": "python",
   "name": "python3"
  },
  "language_info": {
   "codemirror_mode": {
    "name": "ipython",
    "version": 3
   },
   "file_extension": ".py",
   "mimetype": "text/x-python",
   "name": "python",
   "nbconvert_exporter": "python",
   "pygments_lexer": "ipython3",
   "version": "3.11.8"
  }
 },
 "nbformat": 4,
 "nbformat_minor": 2
}
